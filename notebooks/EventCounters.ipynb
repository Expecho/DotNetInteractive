{
 "cells": [
  {
   "cell_type": "code",
   "execution_count": 15,
   "metadata": {},
   "outputs": [],
   "source": [
    "using System.Diagnostics;\n",
    "using System.Diagnostics.Tracing;"
   ]
  },
  {
   "cell_type": "code",
   "execution_count": 16,
   "metadata": {},
   "outputs": [],
   "source": [
    "[EventSource(Name = \"My-CustomMetricsEventSource-Minimal\")]\n",
    "public sealed class CustomMetricsEventSource : EventSource\n",
    "{\n",
    "\tprivate EventCounter methodDurationCounter;\n",
    "\tprivate IncrementingEventCounter methodCallCounter;\n",
    "\tprivate IncrementingPollingCounter incrPollingCounter;\n",
    "\tprivate PollingCounter pollingCounter;\n",
    "\n",
    "\tprivate Dictionary<string, EventCounter> dynamicCounters =\n",
    "\t\tnew Dictionary<string, EventCounter>();\n",
    "\n",
    "\tpublic static CustomMetricsEventSource Log = new CustomMetricsEventSource();\n",
    "\n",
    "\tpublic CustomMetricsEventSource()\n",
    "\t{\n",
    "\t\tmethodDurationCounter = new EventCounter(nameof(methodDurationCounter), this);\n",
    "\t\tmethodDurationCounter.AddMetadata(\"Environment\", \"Production\");\n",
    "\t\tmethodDurationCounter.AddMetadata(\"Customer\", \"Ibis\");\n",
    "\t\tmethodCallCounter = new IncrementingEventCounter(nameof(methodCallCounter), this);\n",
    "\t\tincrPollingCounter = new IncrementingPollingCounter(nameof(incrPollingCounter), this, () => new Random().NextDouble());\n",
    "\t\tincrPollingCounter.AddMetadata(\"Environment\", \"Staging\");\n",
    "\t\tpollingCounter = new PollingCounter(nameof(pollingCounter), this, ()=> new Random().NextDouble());\n",
    "\t}\n",
    "\n",
    "\tpublic void ReportMethodDurationInMs(long milliseconds)\n",
    "\t{\n",
    "\t\tmethodDurationCounter.WriteMetric(milliseconds);\n",
    "\t\tmethodCallCounter.Increment();\n",
    "\t}\n",
    "\n",
    "\tpublic void ReportMetric(string name, float value)\n",
    "\t{\n",
    "\t\tif (!dynamicCounters.TryGetValue(name, out EventCounter counterInstance))\n",
    "\t\t{\n",
    "\t\t\tcounterInstance = new EventCounter(name, this);\n",
    "\t\t\tdynamicCounters.Add(name, counterInstance);\n",
    "\t\t}\n",
    "\t\tcounterInstance.WriteMetric(value);\n",
    "\t}\n",
    "}"
   ]
  },
  {
   "cell_type": "code",
   "execution_count": 18,
   "metadata": {},
   "outputs": [
    {
     "ename": "Unhandled exception",
     "evalue": "(5,17): error CS1061: 'EventWrittenEventArgs' does not contain a definition for 'IsEventCounter' and no accessible extension method 'IsEventCounter' accepting a first argument of type 'EventWrittenEventArgs' could be found (are you missing a using directive or an assembly reference?)",
     "output_type": "error",
     "traceback": [
      "(5,17): error CS1061: 'EventWrittenEventArgs' does not contain a definition for 'IsEventCounter' and no accessible extension method 'IsEventCounter' accepting a first argument of type 'EventWrittenEventArgs' could be found (are you missing a using directive or an assembly reference?)"
     ]
    }
   ],
   "source": [
    "internal class CustomMetricsEventListener : EventListener\n",
    "{\n",
    "\tprotected override void OnEventWritten(EventWrittenEventArgs eventData)\n",
    "\t{\n",
    "        var isEventCounter = eventData.EventName == \"EventCounters\";\n",
    "\t\tif(!isEventCounter)\n",
    "\t\t\treturn;\n",
    "\t\t\n",
    "\t\tvar payload = (IDictionary<string, object>)eventData.Payload[0];\n",
    "\t\tConsole.WriteLine(string.Join(\", \", payload.Select(p => $\"{p.Key}: {p.Value}\")));\n",
    "\t}\n",
    "}"
   ]
  },
  {
   "cell_type": "code",
   "execution_count": 19,
   "metadata": {},
   "outputs": [],
   "source": [
    "using System.Diagnostics;\n",
    "using System.Threading;\n",
    "\n",
    "static void SleepingBeauty(int sleepTimeInMs)\n",
    "{\n",
    "\tvar stopwatch = Stopwatch.StartNew();\n",
    "\n",
    "\tThread.Sleep(sleepTimeInMs);\n",
    "\n",
    "\tstopwatch.Stop();\n",
    "\n",
    "\tCustomMetricsEventSource.Log.ReportMethodDurationInMs(stopwatch.ElapsedMilliseconds);\n",
    "\tCustomMetricsEventSource.Log.ReportMetric(\"someCounter\", DateTime.Now.Millisecond);\n",
    "}"
   ]
  },
  {
   "cell_type": "code",
   "execution_count": 20,
   "metadata": {},
   "outputs": [
    {
     "ename": "Unhandled exception",
     "evalue": "(1,18): error CS0246: The type or namespace name 'CustomMetricsEventListener' could not be found (are you missing a using directive or an assembly reference?)",
     "output_type": "error",
     "traceback": [
      "(1,18): error CS0246: The type or namespace name 'CustomMetricsEventListener' could not be found (are you missing a using directive or an assembly reference?)"
     ]
    }
   ],
   "source": [
    "var reader = new CustomMetricsEventListener();\n",
    "\tvar arguments = new Dictionary<string, string>\n",
    "\t\t{\n",
    "\t\t\t{\"EventCounterIntervalSec\", \"1\"}\n",
    "\t\t};\n",
    "\treader.EnableEvents(CustomMetricsEventSource.Log, EventLevel.LogAlways, EventKeywords.All, arguments);\n",
    "\n",
    "\tvar random = new Random();\n",
    "\tfor (int i = 0; i <= 10000000; i++)\n",
    "\t{\n",
    "\t\tSleepingBeauty(random.Next(10, 200));\n",
    "\t}\n",
    "\n",
    "\tConsole.ReadLine();"
   ]
  }
 ],
 "metadata": {
  "kernelspec": {
   "display_name": ".NET (C#)",
   "language": "C#",
   "name": ".net-csharp"
  },
  "language_info": {
   "file_extension": ".cs",
   "mimetype": "text/x-csharp",
   "name": "C#",
   "pygments_lexer": "csharp",
   "version": "8.0"
  }
 },
 "nbformat": 4,
 "nbformat_minor": 4
}
