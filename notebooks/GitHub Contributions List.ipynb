{
 "cells": [
  {
   "cell_type": "markdown",
   "metadata": {},
   "source": [
    "# GitHub commit contributions outputter\n",
    "\n",
    "This notebook uses the GitHub Graph Api to create a list of all the repositories a user has committed code to."
   ]
  },
  {
   "cell_type": "code",
   "execution_count": null,
   "metadata": {},
   "outputs": [],
   "source": [
    "#r \"nuget:Octokit.GraphQL,0.1.6-beta\""
   ]
  },
  {
   "cell_type": "code",
   "execution_count": null,
   "metadata": {},
   "outputs": [],
   "source": [
    "using Octokit.GraphQL;\n",
    "using static Octokit.GraphQL.Variable;\n",
    "using System.Diagnostics.CodeAnalysis;\n",
    "using System.Threading.Tasks;"
   ]
  },
  {
   "cell_type": "markdown",
   "metadata": {},
   "source": [
    "### Configure the query\n",
    "\n",
    "- Set `includeOwnRepositories` to `true` to include your own repositories in the result.\n",
    "- Create a [Personal Access Token](https://docs.github.com/en/github/authenticating-to-github/creating-a-personal-access-token)\n",
    "- By default the Graph API returns data for a maximum period of a year, update `pastYears` to set how many years back from now the contributions should be retrieved"
   ]
  },
  {
   "cell_type": "code",
   "execution_count": null,
   "metadata": {},
   "outputs": [],
   "source": [
    "const string username = \"<Your GitHub Username>\";\n",
    "const int pastYears = 10;\n",
    "const bool includeOwnRepositories = false;\n",
    "const string personalAccessToken = \"<Your PAT>\";"
   ]
  },
  {
   "cell_type": "markdown",
   "metadata": {},
   "source": [
    "Helper class to store API result"
   ]
  },
  {
   "cell_type": "code",
   "execution_count": null,
   "metadata": {},
   "outputs": [],
   "source": [
    "class Result : IEquatable<Result>\n",
    "{\n",
    "\tpublic string Repository {get;set;}\n",
    "\tpublic string Url {get;set;}\n",
    "\n",
    "\tpublic bool Equals(Result other)\n",
    "\t{\n",
    "\t\treturn Repository.Equals(other.Repository) && Url.Equals(other.Url);\n",
    "\t}\n",
    "\n",
    "\tpublic override int GetHashCode()\n",
    "    {\n",
    "\t\tint repoHc = Repository == null ? 0 : Repository.GetHashCode();\n",
    "        int urlHc = Url == null ? 0 : Url.GetHashCode();\n",
    "\n",
    "\t\treturn repoHc ^ urlHc;\n",
    "\t}\n",
    "\n",
    "\tpublic override string ToString()\n",
    "\t{\n",
    "\t\treturn $\"|[{Repository}]({Url})|\";\n",
    "\t}\n",
    "}"
   ]
  },
  {
   "cell_type": "code",
   "execution_count": null,
   "metadata": {},
   "outputs": [],
   "source": [
    "var productInformation = new ProductHeaderValue(username, username);\n",
    "var connection = new Connection(productInformation, personalAccessToken);\n",
    "var results = new List<Result>();"
   ]
  },
  {
   "cell_type": "code",
   "execution_count": null,
   "metadata": {},
   "outputs": [],
   "source": [
    "for (var yearOffset = -1; yearOffset > pastYears * -1; --yearOffset)\n",
    "{\n",
    "    var query = new Query()\n",
    "        .User(username)\n",
    "        .ContributionsCollection(from: DateTimeOffset.Now.AddYears(yearOffset), to: DateTimeOffset.Now.AddYears(yearOffset + 1))\n",
    "        .CommitContributionsByRepository()\n",
    "        .Select(cc => new Result\n",
    "        {\n",
    "            Repository = cc.Repository.NameWithOwner,\n",
    "            Url = cc.Repository.Url\n",
    "        })\n",
    "        .Compile();\n",
    "\n",
    "    results.AddRange(await connection.Run(query));\n",
    "}"
   ]
  },
  {
   "cell_type": "markdown",
   "metadata": {},
   "source": [
    "### Output\n",
    "\n",
    "Output the result to the console. Modify the `ToString()` of the `Result` class to change the output to your liking"
   ]
  },
  {
   "cell_type": "code",
   "execution_count": null,
   "metadata": {},
   "outputs": [],
   "source": [
    "Console.Write(string.Join(Environment.NewLine, results\n",
    "\t\t.Where(r => includeOwnRepositories || !r.Repository.StartsWith(username))\n",
    "\t\t.Distinct()\n",
    "\t\t.OrderBy(r => r.Repository)));"
   ]
  }
 ],
 "metadata": {
  "kernelspec": {
   "display_name": ".NET (C#)",
   "language": "C#",
   "name": ".net-csharp"
  },
  "language_info": {
   "file_extension": ".cs",
   "mimetype": "text/x-csharp",
   "name": "C#",
   "pygments_lexer": "csharp",
   "version": "8.0"
  }
 },
 "nbformat": 4,
 "nbformat_minor": 4
}
